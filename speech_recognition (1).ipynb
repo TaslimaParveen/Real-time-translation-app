{
 "cells": [
  {
   "cell_type": "code",
   "execution_count": 2,
   "id": "0ec7d395",
   "metadata": {},
   "outputs": [
    {
     "name": "stdout",
     "output_type": "stream",
     "text": [
      "Adjusting noise \n",
      "Recording for 4 seconds\n",
      "Done recording\n",
      "Recognizing the text\n",
      "Decoded Text : hello hello\n"
     ]
    }
   ],
   "source": [
    "import speech_recognition as sr\n",
    "\n",
    "recognizer = sr.Recognizer()\n",
    "\n",
    "''' recording the sound '''\n",
    "\n",
    "with sr.Microphone() as source:\n",
    "    print(\"Adjusting noise \")\n",
    "    recognizer.adjust_for_ambient_noise(source, duration=1)\n",
    "    print(\"Recording for 4 seconds\")\n",
    "    recorded_audio = recognizer.listen(source, timeout=4)\n",
    "    print(\"Done recording\")\n",
    "\n",
    "''' Recorgnizing the Audio '''\n",
    "try:\n",
    "    print(\"Recognizing the text\")\n",
    "    text = recognizer.recognize_google(\n",
    "            recorded_audio, \n",
    "            language=\"en-US\"\n",
    "        )\n",
    "    print(\"Decoded Text : {}\".format(text))\n",
    "\n",
    "except Exception as ex:\n",
    "    print(ex)"
   ]
  },
  {
   "cell_type": "code",
   "execution_count": null,
   "id": "f2400345",
   "metadata": {},
   "outputs": [],
   "source": []
  }
 ],
 "metadata": {
  "kernelspec": {
   "display_name": "Python 3 (ipykernel)",
   "language": "python",
   "name": "python3"
  },
  "language_info": {
   "codemirror_mode": {
    "name": "ipython",
    "version": 3
   },
   "file_extension": ".py",
   "mimetype": "text/x-python",
   "name": "python",
   "nbconvert_exporter": "python",
   "pygments_lexer": "ipython3",
   "version": "3.7.1"
  },
  "vp": {
   "base_numbering": 1,
   "nav_menu": {},
   "number_sections": true,
   "sideBar": true,
   "title_cell": "VisualPython",
   "title_sidebar": "VisualPython",
   "vpPosition": {
    "height": "calc(100% - 180px)",
    "right": "10px",
    "top": "110px",
    "width": "50%"
   },
   "vp_cell": false,
   "vp_section_display": true,
   "vp_window_display": false
  }
 },
 "nbformat": 4,
 "nbformat_minor": 5
}

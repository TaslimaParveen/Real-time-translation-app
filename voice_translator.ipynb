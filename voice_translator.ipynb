{
 "cells": [
  {
   "cell_type": "code",
   "execution_count": 2,
   "id": "f6c7aca5",
   "metadata": {},
   "outputs": [
    {
     "name": "stdout",
     "output_type": "stream",
     "text": [
      "Clearing background noise...\n",
      "Waiting for message..\n",
      "Done recording..\n",
      "Recognizing..\n",
      "good morning\n"
     ]
    }
   ],
   "source": [
    "import speech_recognition as sr\n",
    "from google_trans_new import google_translator\n",
    "import pyttsx3 \n",
    "recognizer=sr.Recognizer()\n",
    "engine = pyttsx3.init()\n",
    "with sr.Microphone() as source: \n",
    "    print('Clearing background noise...')\n",
    "    recognizer.adjust_for_ambient_noise(source,duration=1)\n",
    "    print('Waiting for message..') \n",
    "    audio = recognizer.listen(source,timeout=10)\n",
    "    print('Done recording..') \n",
    "try:\n",
    "    print('Recognizing..')\n",
    "    result = recognizer.recognize_google(audio,language='en')\n",
    "    print(result)\n",
    "    engine = pyttsx3.init()\n",
    "    engine.save_to_file(result, result+'.mp3')\n",
    "    engine.runAndWait()\n",
    "except Exception as ex:\n",
    "    print(ex)"
   ]
  },
  {
   "cell_type": "code",
   "execution_count": null,
   "id": "9281aeda",
   "metadata": {},
   "outputs": [],
   "source": []
  }
 ],
 "metadata": {
  "kernelspec": {
   "display_name": "Python 3 (ipykernel)",
   "language": "python",
   "name": "python3"
  },
  "language_info": {
   "codemirror_mode": {
    "name": "ipython",
    "version": 3
   },
   "file_extension": ".py",
   "mimetype": "text/x-python",
   "name": "python",
   "nbconvert_exporter": "python",
   "pygments_lexer": "ipython3",
   "version": "3.7.1"
  }
 },
 "nbformat": 4,
 "nbformat_minor": 5
}
